{
 "cells": [
  {
   "cell_type": "markdown",
   "metadata": {},
   "source": [
    "EXERCISE SET 1"
   ]
  },
  {
   "cell_type": "code",
   "execution_count": 35,
   "metadata": {},
   "outputs": [],
   "source": [
    "import numpy as np\n",
    "import pandas as pd"
   ]
  },
  {
   "cell_type": "markdown",
   "metadata": {},
   "source": [
    "Exercise 1 starts"
   ]
  },
  {
   "cell_type": "code",
   "execution_count": 28,
   "metadata": {},
   "outputs": [
    {
     "data": {
      "text/plain": [
       "[1, 1, 1, 1, 1, 1, 1, 1, 1, 1, 1, 1, 1, 1, 1]"
      ]
     },
     "execution_count": 28,
     "metadata": {},
     "output_type": "execute_result"
    }
   ],
   "source": [
    "# list of 15 ones\n",
    "list_of_15_ones = []\n",
    "\n",
    "for x in range(15):\n",
    "    list_of_15_ones.append(1)\n",
    "\n",
    "list_of_15_ones\n",
    "#len(list_of_15_ones)"
   ]
  },
  {
   "cell_type": "code",
   "execution_count": 29,
   "metadata": {},
   "outputs": [
    {
     "data": {
      "text/plain": [
       "[7, 7, 7, 7, 7, 7, 7, 7, 7, 7, 7, 7, 7, 7, 7]"
      ]
     },
     "execution_count": 29,
     "metadata": {},
     "output_type": "execute_result"
    }
   ],
   "source": [
    "# list of 15 number 7's\n",
    "list_of_15_sevens = []\n",
    "\n",
    "for x in range(15):\n",
    "    list_of_15_sevens.append(7)\n",
    "\n",
    "list_of_15_sevens"
   ]
  },
  {
   "cell_type": "code",
   "execution_count": 30,
   "metadata": {},
   "outputs": [
    {
     "data": {
      "text/plain": [
       "[100,\n",
       " 101,\n",
       " 102,\n",
       " 103,\n",
       " 104,\n",
       " 105,\n",
       " 106,\n",
       " 107,\n",
       " 108,\n",
       " 109,\n",
       " 110,\n",
       " 111,\n",
       " 112,\n",
       " 113,\n",
       " 114,\n",
       " 115,\n",
       " 116,\n",
       " 117,\n",
       " 118,\n",
       " 119,\n",
       " 120,\n",
       " 121,\n",
       " 122,\n",
       " 123,\n",
       " 124,\n",
       " 125,\n",
       " 126,\n",
       " 127,\n",
       " 128,\n",
       " 129,\n",
       " 130,\n",
       " 131,\n",
       " 132,\n",
       " 133,\n",
       " 134,\n",
       " 135,\n",
       " 136,\n",
       " 137,\n",
       " 138,\n",
       " 139,\n",
       " 140,\n",
       " 141,\n",
       " 142,\n",
       " 143,\n",
       " 144,\n",
       " 145,\n",
       " 146,\n",
       " 147,\n",
       " 148,\n",
       " 149,\n",
       " 150]"
      ]
     },
     "execution_count": 30,
     "metadata": {},
     "output_type": "execute_result"
    }
   ],
   "source": [
    "# list of numbers from 100 to 150\n",
    "list_of_100_to_150 = []\n",
    "\n",
    "for num in range(100, 151):\n",
    "    list_of_100_to_150.append(num)\n",
    "\n",
    "list_of_100_to_150"
   ]
  },
  {
   "cell_type": "code",
   "execution_count": 31,
   "metadata": {},
   "outputs": [
    {
     "data": {
      "text/plain": [
       "[0,\n",
       " 2,\n",
       " 4,\n",
       " 6,\n",
       " 8,\n",
       " 10,\n",
       " 12,\n",
       " 14,\n",
       " 16,\n",
       " 18,\n",
       " 20,\n",
       " 22,\n",
       " 24,\n",
       " 26,\n",
       " 28,\n",
       " 30,\n",
       " 32,\n",
       " 34,\n",
       " 36,\n",
       " 38,\n",
       " 40,\n",
       " 42,\n",
       " 44,\n",
       " 46,\n",
       " 48,\n",
       " 50,\n",
       " 52,\n",
       " 54,\n",
       " 56,\n",
       " 58,\n",
       " 60,\n",
       " 62,\n",
       " 64,\n",
       " 66,\n",
       " 68,\n",
       " 70,\n",
       " 72,\n",
       " 74,\n",
       " 76,\n",
       " 78,\n",
       " 80,\n",
       " 82,\n",
       " 84,\n",
       " 86,\n",
       " 88,\n",
       " 90,\n",
       " 92,\n",
       " 94,\n",
       " 96,\n",
       " 98,\n",
       " 100]"
      ]
     },
     "execution_count": 31,
     "metadata": {},
     "output_type": "execute_result"
    }
   ],
   "source": [
    "# list of even numbers between 0 and 100\n",
    "even_nums_between_0_and_100 = []\n",
    "\n",
    "for num in range (0, 101):\n",
    "    if num % 2 == 0:\n",
    "        even_nums_between_0_and_100.append(num)\n",
    "\n",
    "even_nums_between_0_and_100"
   ]
  },
  {
   "cell_type": "code",
   "execution_count": 32,
   "metadata": {},
   "outputs": [
    {
     "data": {
      "text/plain": [
       "[1952,\n",
       " 1956,\n",
       " 1960,\n",
       " 1964,\n",
       " 1968,\n",
       " 1972,\n",
       " 1976,\n",
       " 1980,\n",
       " 1984,\n",
       " 1988,\n",
       " 1992,\n",
       " 1996,\n",
       " 2000,\n",
       " 2004,\n",
       " 2008,\n",
       " 2012,\n",
       " 2016,\n",
       " 2020]"
      ]
     },
     "execution_count": 32,
     "metadata": {},
     "output_type": "execute_result"
    }
   ],
   "source": [
    "# list of years that are divisible by 4 between 1950 and 2020\n",
    "list_of_years_etc = []\n",
    "\n",
    "for num in range (1950, 2021):\n",
    "    if num % 4 == 0:\n",
    "        list_of_years_etc.append(num)\n",
    "\n",
    "list_of_years_etc"
   ]
  },
  {
   "cell_type": "markdown",
   "metadata": {},
   "source": [
    "Exercise 1 ends\n",
    "\n",
    "Exercise 2 starts"
   ]
  },
  {
   "cell_type": "code",
   "execution_count": 38,
   "metadata": {},
   "outputs": [
    {
     "data": {
      "text/plain": [
       "array([0., 0., 0., 0., 0., 0., 0., 0., 0., 0., 0., 0., 0., 0., 0.])"
      ]
     },
     "execution_count": 38,
     "metadata": {},
     "output_type": "execute_result"
    }
   ],
   "source": [
    "\n",
    "# array of 15 zeroes with np\n",
    "array_15_zeroes = np.zeros(15)\n",
    "\n",
    "array_15_zeroes"
   ]
  },
  {
   "cell_type": "code",
   "execution_count": 41,
   "metadata": {},
   "outputs": [
    {
     "data": {
      "text/plain": [
       "array([1., 1., 1., 1., 1., 1., 1., 1., 1., 1., 1., 1., 1., 1., 1.])"
      ]
     },
     "execution_count": 41,
     "metadata": {},
     "output_type": "execute_result"
    }
   ],
   "source": [
    "# array of 15 ones with np\n",
    "array_15_ones = np.ones(15)\n",
    "\n",
    "array_15_ones"
   ]
  },
  {
   "cell_type": "code",
   "execution_count": 43,
   "metadata": {},
   "outputs": [
    {
     "data": {
      "text/plain": [
       "array([7, 7, 7, 7, 7, 7, 7, 7, 7, 7, 7, 7, 7, 7, 7])"
      ]
     },
     "execution_count": 43,
     "metadata": {},
     "output_type": "execute_result"
    }
   ],
   "source": [
    "# array of 15 sevens with np\n",
    "array_15_sevens = np.repeat(7, 15) # 7 what we want to repeat, 15 how many times.\n",
    "\n",
    "array_15_sevens\n"
   ]
  },
  {
   "cell_type": "code",
   "execution_count": 44,
   "metadata": {},
   "outputs": [
    {
     "data": {
      "text/plain": [
       "array([100, 101, 102, 103, 104, 105, 106, 107, 108, 109, 110, 111, 112,\n",
       "       113, 114, 115, 116, 117, 118, 119, 120, 121, 122, 123, 124, 125,\n",
       "       126, 127, 128, 129, 130, 131, 132, 133, 134, 135, 136, 137, 138,\n",
       "       139, 140, 141, 142, 143, 144, 145, 146, 147, 148, 149, 150])"
      ]
     },
     "execution_count": 44,
     "metadata": {},
     "output_type": "execute_result"
    }
   ],
   "source": [
    "# array of numbers from 100 to 150 with np\n",
    "array_from_100_to_150 = np.arange(100, 151) # like py range func but returns array\n",
    "\n",
    "array_from_100_to_150\n"
   ]
  },
  {
   "cell_type": "code",
   "execution_count": 45,
   "metadata": {},
   "outputs": [
    {
     "data": {
      "text/plain": [
       "array([1900, 1901, 1902, 1903, 1904, 1905, 1906, 1907, 1908, 1909, 1910,\n",
       "       1911, 1912, 1913, 1914, 1915, 1916, 1917, 1918, 1919, 1920, 1921,\n",
       "       1922, 1923, 1924, 1925, 1926, 1927, 1928, 1929, 1930, 1931, 1932,\n",
       "       1933, 1934, 1935, 1936, 1937, 1938, 1939, 1940, 1941, 1942, 1943,\n",
       "       1944, 1945, 1946, 1947, 1948, 1949, 1950, 1951, 1952, 1953, 1954,\n",
       "       1955, 1956, 1957, 1958, 1959, 1960, 1961, 1962, 1963, 1964, 1965,\n",
       "       1966, 1967, 1968, 1969, 1970, 1971, 1972, 1973, 1974, 1975, 1976,\n",
       "       1977, 1978, 1979, 1980, 1981, 1982, 1983, 1984, 1985, 1986, 1987,\n",
       "       1988, 1989, 1990, 1991, 1992, 1993, 1994, 1995, 1996, 1997, 1998,\n",
       "       1999, 2000, 2001, 2002, 2003, 2004, 2005, 2006, 2007, 2008, 2009,\n",
       "       2010, 2011, 2012, 2013, 2014, 2015, 2016, 2017, 2018, 2019, 2020,\n",
       "       2021])"
      ]
     },
     "execution_count": 45,
     "metadata": {},
     "output_type": "execute_result"
    }
   ],
   "source": [
    "# array of numbers from 1900 to 2021 with np\n",
    "array_from_1900_to_2021 = np.arange(1900, 2022)\n",
    "\n",
    "array_from_1900_to_2021"
   ]
  },
  {
   "cell_type": "code",
   "execution_count": 46,
   "metadata": {},
   "outputs": [
    {
     "data": {
      "text/plain": [
       "array([  0,   2,   4,   6,   8,  10,  12,  14,  16,  18,  20,  22,  24,\n",
       "        26,  28,  30,  32,  34,  36,  38,  40,  42,  44,  46,  48,  50,\n",
       "        52,  54,  56,  58,  60,  62,  64,  66,  68,  70,  72,  74,  76,\n",
       "        78,  80,  82,  84,  86,  88,  90,  92,  94,  96,  98, 100])"
      ]
     },
     "execution_count": 46,
     "metadata": {},
     "output_type": "execute_result"
    }
   ],
   "source": [
    "# array of even nums between 0 and 100 with np\n",
    "array_of_even_nums_between_0_and_100 = np.arange(0, 101, 2) # the step (2) defines the interval between each val in the array. so in this case it skips every other value. default stepsize is 1\n",
    "\n",
    "array_of_even_nums_between_0_and_100"
   ]
  },
  {
   "cell_type": "code",
   "execution_count": 47,
   "metadata": {},
   "outputs": [
    {
     "data": {
      "text/plain": [
       "array([1952, 1956, 1960, 1964, 1968, 1972, 1976, 1980, 1984, 1988, 1992,\n",
       "       1996, 2000, 2004, 2008, 2012, 2016, 2020])"
      ]
     },
     "execution_count": 47,
     "metadata": {},
     "output_type": "execute_result"
    }
   ],
   "source": [
    "# array of years that are divisible by 4 between 1950 and 2020 with np\n",
    "\n",
    "array_of_nums_divisible_by_4_between_1950_and_2020 = np.arange(1952, 2021, 4) # expert knowledge here that 1950 isn't divisible by 4 and 1952 is :D\n",
    "\n",
    "array_of_nums_divisible_by_4_between_1950_and_2020\n"
   ]
  },
  {
   "cell_type": "markdown",
   "metadata": {},
   "source": [
    "Comparing python and NumPy, not much of a difference. NumPy = faster so personally liking it more."
   ]
  },
  {
   "cell_type": "markdown",
   "metadata": {},
   "source": [
    "Exercise 2 ends\n",
    "\n",
    "Exercise 3 starts"
   ]
  },
  {
   "cell_type": "code",
   "execution_count": 49,
   "metadata": {},
   "outputs": [
    {
     "data": {
      "text/plain": [
       "4"
      ]
     },
     "execution_count": 49,
     "metadata": {},
     "output_type": "execute_result"
    }
   ],
   "source": [
    "# np vector containing values: 5, 16, 9, 2, 19, 18, 11, 7. use argmax() to find the position index of the largest value in the vector\n",
    "\n",
    "given_nums = [5, 16, 9, 2, 19, 18, 11, 7] # python list\n",
    "convert_to_nmp = np.array(given_nums) # convert list to numpy array/vector\n",
    "\n",
    "index_of_largest_num = np.argmax(convert_to_nmp) # find the index of the largest number\n",
    "index_of_largest_num\n"
   ]
  },
  {
   "cell_type": "code",
   "execution_count": 52,
   "metadata": {},
   "outputs": [
    {
     "data": {
      "text/plain": [
       "[[1, 2, 3, 4, 5, 6, 7],\n",
       " [8, 9, 10, 11, 12, 13, 14],\n",
       " [15, 16, 17, 18, 19, 20, 21],\n",
       " [22, 23, 24, 25, 26, 27, 28],\n",
       " [29, 30, 31, 32, 33, 34, 35],\n",
       " [36, 37, 38, 39, 40, 41, 42],\n",
       " [43, 44, 45, 46, 47, 48, 49]]"
      ]
     },
     "execution_count": 52,
     "metadata": {},
     "output_type": "execute_result"
    }
   ],
   "source": [
    "# 7x7 matrix with values from 1 to 49\n",
    "\n",
    "seven_x_seven_matrix = np.arange(1, 50).reshape(7, 7) # chain func, first get vals between 1 and 49 then convert/reshape it to 7x7 matrix\n",
    "\n",
    "#seven_x_seven_matrix\n",
    "\n",
    "# EXTRA, same task without numpy\n",
    "number = 1\n",
    "seven_x_seven_matrix_without_numpy = []\n",
    "# nested loop, basically create rowlist in outside loop -> jump to inside loop (stop at 7 runs, creates the 7x7) -> add our starting number to the previously created rowlist -> br\n",
    "# increment by 1 -> add our incremented number to the rowlist -> etc. until 7 runs -> create another rowlist -> etc. etc.\n",
    "for num_index in range(7):\n",
    "    seven_x_seven_matrix_without_numpy.append([]) # new list/row\n",
    "    for num_index_2 in range(7):\n",
    "        seven_x_seven_matrix_without_numpy[num_index].append(number) # add the starting number\n",
    "        number += 1 # increment starting number by 1\n",
    "\n",
    "seven_x_seven_matrix_without_numpy\n"
   ]
  },
  {
   "cell_type": "code",
   "execution_count": 67,
   "metadata": {},
   "outputs": [
    {
     "data": {
      "text/plain": [
       "array([[0, 1, 3, 4, 2, 1, 1, 5],\n",
       "       [5, 2, 4, 3, 2, 4, 5, 5],\n",
       "       [2, 1, 2, 4, 5, 3, 2, 4],\n",
       "       [2, 0, 5, 4, 1, 4, 5, 5],\n",
       "       [2, 3, 5, 3, 2, 5, 3, 0],\n",
       "       [2, 0, 0, 3, 5, 5, 4, 1],\n",
       "       [2, 0, 1, 0, 5, 2, 3, 5],\n",
       "       [4, 2, 5, 5, 2, 5, 2, 5]])"
      ]
     },
     "execution_count": 67,
     "metadata": {},
     "output_type": "execute_result"
    }
   ],
   "source": [
    "# 8x8 random number matrix, values between 0 and 5\n",
    "\n",
    "eight_x_eight_matrix = np.random.randint(0, 6, (8, 8)) # (numbers between 0 and 5, (array/matrix size 8x8))\n",
    "\n",
    "eight_x_eight_matrix"
   ]
  },
  {
   "cell_type": "code",
   "execution_count": 73,
   "metadata": {},
   "outputs": [
    {
     "data": {
      "text/plain": [
       "array([[-2.3244125 ,  1.43699097, -0.07997301, -0.93988983,  1.74745825,\n",
       "        -0.71095095,  1.5105493 ,  1.31029821],\n",
       "       [ 0.66413595, -1.08481076,  0.442351  , -0.23356707, -1.45415201,\n",
       "         1.95604855,  0.31663491,  1.15021914],\n",
       "       [-0.6681414 ,  0.09812036, -0.78683291,  2.53757987,  0.06007365,\n",
       "        -0.32812889,  1.82315561, -0.60561469],\n",
       "       [-0.389662  ,  0.58993786,  0.836054  , -0.28569993,  1.54170709,\n",
       "        -1.61432352, -1.37880526, -0.14409237],\n",
       "       [ 0.56292562,  0.7705753 ,  1.26579609,  0.01078566,  1.13078218,\n",
       "         1.34541778,  1.21717063,  1.13392773],\n",
       "       [ 0.20450937,  1.65897862,  0.57887238,  0.85108254, -0.73028815,\n",
       "         0.25027997,  0.90252376,  2.42289341],\n",
       "       [ 1.41142012,  0.22022241, -0.55983024,  0.38351565, -0.01038824,\n",
       "        -0.43258452, -1.78093192,  1.27238872],\n",
       "       [-0.28702527, -0.34820933, -0.3702499 , -1.22350345,  1.11615177,\n",
       "        -0.05609414, -0.30137648, -0.15372729]])"
      ]
     },
     "execution_count": 73,
     "metadata": {},
     "output_type": "execute_result"
    }
   ],
   "source": [
    "# 8x8 random number matrix, using standard normal distribution values (between -3 n' 3)\n",
    "\n",
    "eight_x_eight_matrix_with_snd_values = np.random.randn(8, 8) # create the 8x8 matrix with standard normal distribution values, randn mean = 0 and deviation 1\n",
    "\n",
    "eight_x_eight_matrix_with_snd_values"
   ]
  },
  {
   "cell_type": "markdown",
   "metadata": {},
   "source": [
    "Exercise 3 ends\n",
    "\n",
    "Exercise 4 starts"
   ]
  },
  {
   "cell_type": "code",
   "execution_count": null,
   "metadata": {},
   "outputs": [],
   "source": []
  }
 ],
 "metadata": {
  "kernelspec": {
   "display_name": ".venv",
   "language": "python",
   "name": "python3"
  },
  "language_info": {
   "codemirror_mode": {
    "name": "ipython",
    "version": 3
   },
   "file_extension": ".py",
   "mimetype": "text/x-python",
   "name": "python",
   "nbconvert_exporter": "python",
   "pygments_lexer": "ipython3",
   "version": "3.10.11"
  }
 },
 "nbformat": 4,
 "nbformat_minor": 2
}
